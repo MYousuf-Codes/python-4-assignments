{
  "nbformat": 4,
  "nbformat_minor": 0,
  "metadata": {
    "colab": {
      "provenance": [],
      "authorship_tag": "ABX9TyPnbKUZUFC/DuPfEWH5/HvD",
      "include_colab_link": true
    },
    "kernelspec": {
      "name": "python3",
      "display_name": "Python 3"
    },
    "language_info": {
      "name": "python"
    }
  },
  "cells": [
    {
      "cell_type": "markdown",
      "metadata": {
        "id": "view-in-github",
        "colab_type": "text"
      },
      "source": [
        "<a href=\"https://colab.research.google.com/github/MYousuf-Codes/python-4-assignments/blob/main/Assignment00.ipynb\" target=\"_parent\"><img src=\"https://colab.research.google.com/assets/colab-badge.svg\" alt=\"Open In Colab\"/></a>"
      ]
    },
    {
      "cell_type": "markdown",
      "source": [
        "#**01_add_two_numbers**\n",
        "\n",
        "**Write a Python program that takes two integer inputs from the user and calculates their sum. The program should perform the following tasks:**\n",
        "\n",
        "✅ Prompt the user to enter the first number.\n",
        "\n",
        "✅ Read the input and convert it to an integer.\n",
        "\n",
        "✅ Prompt the user to enter the second number.\n",
        "\n",
        "✅ Read the input and convert it to an integer.\n",
        "\n",
        "✅ Calculate the sum of the two numbers.\n",
        "\n",
        "✅ Print the total sum with an appropriate message.\n",
        "\n",
        "**The provided solution demonstrates a working implementation of this problem, where the main() function guides the user through the process of entering two numbers and displays their sum.**"
      ],
      "metadata": {
        "id": "b6VxdN5ky6yn"
      }
    },
    {
      "cell_type": "code",
      "execution_count": 5,
      "metadata": {
        "colab": {
          "base_uri": "https://localhost:8080/"
        },
        "id": "8G9MxGIXysQk",
        "outputId": "f0dc9c48-7805-4038-a253-0d4f898d5764"
      },
      "outputs": [
        {
          "output_type": "stream",
          "name": "stdout",
          "text": [
            "Add Two Numbers :)\n",
            "Enter first number: 50\n",
            "Enter second number: 70\n",
            "The sum of 50 and 70 is = 120\n"
          ]
        }
      ],
      "source": [
        "def main():\n",
        "    print(\"Add Two Numbers :)\")\n",
        "\n",
        "    num1: str = input(\"Enter first number: \")\n",
        "    num1: int = int(num1)\n",
        "\n",
        "    num2: str = input(\"Enter second number: \")\n",
        "    num2: int = int(num2)\n",
        "\n",
        "    sum_result: int = num1 + num2\n",
        "\n",
        "    print(f\"The sum of {num1} and {num2} is = {sum_result}\")\n",
        "\n",
        "if __name__ == '__main__':\n",
        "    main()\n"
      ]
    }
  ]
}