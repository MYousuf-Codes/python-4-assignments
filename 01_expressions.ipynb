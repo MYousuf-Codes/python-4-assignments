{
  "nbformat": 4,
  "nbformat_minor": 0,
  "metadata": {
    "colab": {
      "provenance": [],
      "authorship_tag": "ABX9TyMPFa3N3b5XTyXI5xMX04UK",
      "include_colab_link": true
    },
    "kernelspec": {
      "name": "python3",
      "display_name": "Python 3"
    },
    "language_info": {
      "name": "python"
    }
  },
  "cells": [
    {
      "cell_type": "markdown",
      "metadata": {
        "id": "view-in-github",
        "colab_type": "text"
      },
      "source": [
        "<a href=\"https://colab.research.google.com/github/MYousuf-Codes/python-4-assignments/blob/main/01_expressions.ipynb\" target=\"_parent\"><img src=\"https://colab.research.google.com/assets/colab-badge.svg\" alt=\"Open In Colab\"/></a>"
      ]
    },
    {
      "cell_type": "markdown",
      "source": [
        "# **01_dicesimulator**\n",
        "\n",
        "Simulate rolling two dice, three times. Prints the results of each die roll. This program is used to show how variable scope works."
      ],
      "metadata": {
        "id": "EOWWWcd8NrAF"
      }
    },
    {
      "cell_type": "code",
      "execution_count": null,
      "metadata": {
        "colab": {
          "base_uri": "https://localhost:8080/"
        },
        "id": "pputObgFNZsJ",
        "outputId": "d0554508-1c02-4b29-a594-ee37bf57e2e0"
      },
      "outputs": [
        {
          "output_type": "stream",
          "name": "stdout",
          "text": [
            "This program simulates rolling two dice, to show how variable scope works :)\n",
            "die1 in main() starts as: 10\n",
            "The total of tow dice =  10\n",
            "The total of tow dice =  11\n",
            "The total of tow dice =  7\n",
            "die1 in main() is: 10\n"
          ]
        }
      ],
      "source": [
        "import random\n",
        "\n",
        "NUM_SIDES : int = 6 # defined outside of any funciton, so it is accessible from anywhere and this is Global Scope\n",
        "\n",
        "\n",
        "def roll_dice():\n",
        "\n",
        "  die1 : int = random.randint(1, NUM_SIDES) # random.randint(1, NUM_SIDES) generates a random integer between 1 and 6.\n",
        "  die2 : int = random.randint(1, NUM_SIDES) # same as above\n",
        "\n",
        "  total : int = die1 + die2\n",
        "  print(f\"The total of tow dice = \", total)\n",
        "\n",
        "  # Even though there is a variable named die1 in main() (coming up), this die1 is completely separate because it's inside a different function.\n",
        "  #Local scope means variables exist only inside the function where they are defined.\n",
        "\n",
        "\n",
        "def main():\n",
        "  print(f\"This program simulates rolling two dice, to show how variable scope works :)\")\n",
        "\n",
        "  die1: int = 10\n",
        "  print(\"die1 in main() starts as: \" + str(die1))\n",
        "  roll_dice()\n",
        "  roll_dice()\n",
        "  roll_dice()\n",
        "  print(f\"die1 in main() is: \"+ str(die1))\n",
        "\n",
        "  # The die1 here in main() is not affected by the die1 inside roll_dice().\n",
        "  # Even though they have the same name, they are in different scopes.\n",
        "\n",
        "  # Variable scope means variables in different functions do not interfere, even with the same name.\n",
        "\n",
        "\n",
        "if __name__ == \"__main__\":\n",
        "  main()"
      ]
    },
    {
      "cell_type": "markdown",
      "source": [
        "# **02_e=mc2**"
      ],
      "metadata": {
        "id": "RXSYhqjWBPN1"
      }
    },
    {
      "cell_type": "code",
      "source": [
        "c: int = 299792458  # The speed of light in m/s whihc is constatnt\n",
        "\n",
        "def main():\n",
        "    mass_in_kg: float = float(input(\"Enter kilos of mass: \"))\n",
        "\n",
        "    # Calculate energy\n",
        "    # equivalently energy = mass * (C ** 2)\n",
        "    # using the (staric as multiplication)** operator to raise C to the power of 2\n",
        "    energy_in_joules: float = mass_in_kg * (c ** 2)\n",
        "\n",
        "    # Display work to the user\n",
        "    print(f\"Formula: e = m * C^2...\")\n",
        "    print(f\"Data:\")\n",
        "    print(f\"m = \" + str(mass_in_kg) + \" kg\")\n",
        "    print(f\"C = \" + str(c) + \" m/s\")\n",
        "\n",
        "    print(f\"Answer:\")\n",
        "    print(str(energy_in_joules) + \" joules of energy!\")\n",
        "\n",
        "\n",
        "if __name__ == '__main__':\n",
        "    main()"
      ],
      "metadata": {
        "colab": {
          "base_uri": "https://localhost:8080/"
        },
        "id": "ZRUyqzfQCM5I",
        "outputId": "cdd73d58-58b8-49f6-c002-84417a6d73df"
      },
      "execution_count": null,
      "outputs": [
        {
          "output_type": "stream",
          "name": "stdout",
          "text": [
            "Enter kilos of mass: 60\n",
            "Formula: e = m * C^2...\n",
            "Data:\n",
            "m = 60.0 kg\n",
            "C = 299792458 m/s\n",
            "Answer:\n",
            "5.392531072420906e+18 joules of energy!\n"
          ]
        }
      ]
    },
    {
      "cell_type": "markdown",
      "source": [
        "#**03_feet_to_inches**\n",
        "\n",
        "Converts feet to inches. Feet is an American unit of measurement. There are 12 inches per foot. Foot is the singular, and feet is the plural.\n"
      ],
      "metadata": {
        "id": "lunvnrn6Da19"
      }
    },
    {
      "cell_type": "code",
      "source": [
        "def main():\n",
        "    feet_input = input(\"Enter length in feet: \")\n",
        "    feet = float(feet_input)\n",
        "    inches = feet * 12\n",
        "\n",
        "    # Handle singular/plural\n",
        "    feet_unit = \"foot\" if feet == 1 else \"feet\"\n",
        "    inch_unit = \"inch\" if inches == 1 else \"inches\"\n",
        "\n",
        "    print(f\"{feet} {feet_unit} is equal to {inches} {inch_unit}.\")\n",
        "\n",
        "if __name__ == '__main__':\n",
        "    main()\n"
      ],
      "metadata": {
        "colab": {
          "base_uri": "https://localhost:8080/"
        },
        "id": "hx8XmdbFEeSp",
        "outputId": "43c0a466-1e41-448f-dc8a-46e27e1de850"
      },
      "execution_count": null,
      "outputs": [
        {
          "output_type": "stream",
          "name": "stdout",
          "text": [
            "Enter length in feet: 0.08333333333333333333333333333333333333333333333\n",
            "0.08333333333333333 feet is equal to 1.0 inch.\n"
          ]
        }
      ]
    },
    {
      "cell_type": "markdown",
      "source": [
        "#**04_pythagorean_theorem**\n",
        "\n",
        "Write a program that asks the user for the lengths of the two perpendicular sides of a right triangle and outputs the length of the third side (the hypotenuse) using the Pythagorean theorem!"
      ],
      "metadata": {
        "id": "vXrlQvxwMlEx"
      }
    },
    {
      "cell_type": "code",
      "source": [
        "import math  # importing math module to use math.sqrt()\n",
        "\n",
        "def main():\n",
        "    # Prompt the user to enter the lengths of sides AB and AC\n",
        "    ab_input = input(\"Enter the length of AB: \")\n",
        "    ac_input = input(\"Enter the length of AC: \")\n",
        "\n",
        "    # Convert the inputs to float (to handle decimals)\n",
        "    ab = float(ab_input)\n",
        "    ac = float(ac_input)\n",
        "\n",
        "    # Apply the Pythagorean theorem: BC^2 = AB^2 + AC^2\n",
        "    bc_squared = ab ** 2 + ac ** 2\n",
        "    bc = math.sqrt(bc_squared)  # Calculate the square root for hypotenuse\n",
        "\n",
        "    # result\n",
        "    print(f\"The Result:\")\n",
        "    print(f\"The length of BC (the hypotenuse) is: {round(bc, 2)}\")\n",
        "\n",
        "if __name__ == '__main__':\n",
        "    main()"
      ],
      "metadata": {
        "colab": {
          "base_uri": "https://localhost:8080/"
        },
        "id": "8Qj_JDNVMqdQ",
        "outputId": "8a85855d-fb05-4dca-a185-1388d24d170f"
      },
      "execution_count": null,
      "outputs": [
        {
          "output_type": "stream",
          "name": "stdout",
          "text": [
            "Enter the length of AB: 6\n",
            "Enter the length of AC: 9\n",
            "The Result:\n",
            "The length of BC (the hypotenuse) is: 10.82\n"
          ]
        }
      ]
    },
    {
      "cell_type": "markdown",
      "source": [
        "#**05_remainder_division**\n",
        "\n",
        "Ask the user for two numbers, one at a time, and then print the result of dividing the first number by the second and also the remainder of the division."
      ],
      "metadata": {
        "id": "zFsbkpJ5OU_m"
      }
    },
    {
      "cell_type": "code",
      "source": [
        "def main():\n",
        "    try:\n",
        "        # Get the numbers we want to divide\n",
        "        dividend = int(input(\"Please enter an integer to be divided: \"))\n",
        "        divisor = int(input(\"Please enter an integer to divide by: \"))\n",
        "\n",
        "        # Check if divisor is zero\n",
        "        if divisor == 0:\n",
        "            print(f\"Error: {dividend} Cannot be divide by zero.\")\n",
        "        else:\n",
        "            # Integer division quotient only, no decimal part\n",
        "            quotient = dividend // divisor\n",
        "\n",
        "            # this gets the remainder\n",
        "            remainder = dividend % divisor\n",
        "\n",
        "            # the result\n",
        "            print(f\"The result of this division is {quotient} with a remainder of {remainder}\")\n",
        "\n",
        "    except ValueError:\n",
        "        print(\"Error: Please enter valid integers.\")\n",
        "\n",
        "# There is no need to edit code beyond this point\n",
        "if __name__ == '__main__':\n",
        "    main()"
      ],
      "metadata": {
        "colab": {
          "base_uri": "https://localhost:8080/"
        },
        "id": "Dvhe4SbaOZVM",
        "outputId": "3314351f-056f-43a9-9f12-ce0d90b745ae"
      },
      "execution_count": null,
      "outputs": [
        {
          "output_type": "stream",
          "name": "stdout",
          "text": [
            "Please enter an integer to be divided: 50\n",
            "Please enter an integer to divide by: 0\n",
            "Error: 50 Cannot be divide by zero.\n"
          ]
        }
      ]
    },
    {
      "cell_type": "markdown",
      "source": [
        "# **06_rolldice**\n",
        "\n",
        "Simulate rolling two dice, and prints results of each roll as well as the total."
      ],
      "metadata": {
        "id": "eJUMWfR3P1_V"
      }
    },
    {
      "cell_type": "code",
      "source": [
        "import random\n",
        "\n",
        "NUM_SIDES : int = 6\n",
        "\n",
        "def main():\n",
        "  die1: int = random.randint(1, NUM_SIDES)\n",
        "  die2: int = random.randint(1, NUM_SIDES)\n",
        "  total : int = die1 + die2\n",
        "\n",
        "  print(f\"The Dice have the {NUM_SIDES} sides each :)\")\n",
        "  print(f\"The First Die: {die1}\")\n",
        "  print(f\"The Second Die: {die2}\")\n",
        "  print(f\"The total of the Two Dice: {total}\")\n",
        "\n",
        "if __name__ == \"__main__\":\n",
        "  main()"
      ],
      "metadata": {
        "id": "FMbQ5netQFxK",
        "colab": {
          "base_uri": "https://localhost:8080/"
        },
        "outputId": "339f010a-84ef-4a88-ce47-e2fa6f83efb4"
      },
      "execution_count": 6,
      "outputs": [
        {
          "output_type": "stream",
          "name": "stdout",
          "text": [
            "The Dice have the 6 sides each :)\n",
            "The First Die: 2\n",
            "The Second Die: 3\n",
            "The total of the Two Dice: 5\n"
          ]
        }
      ]
    },
    {
      "cell_type": "markdown",
      "source": [
        "#**06_seconds_in_year**\n",
        "\n",
        "Use Python to calculate the number of seconds in a year, and tell the user what the result is in a nice print statement that looks like this (of course the value 5 should be the calculated number instead):\n",
        "\n",
        "There are 5 seconds in a year!\n",
        "\n",
        "You should use constants for this exercise -- there are 365 days in a year, 24 hours in a day, 60 minutes in an hour, and 60 seconds per minute."
      ],
      "metadata": {
        "id": "v0DFzxo_sGYg"
      }
    },
    {
      "cell_type": "code",
      "source": [
        "DAYS_PER_YEAR : int = 365\n",
        "HOURS_PER_DAY : int = 24\n",
        "MINUTES_PER_HOUR : int = 60\n",
        "SECONDS_PER_MINUTE : int = 60\n",
        "\n",
        "\n",
        "def main():\n",
        "\n",
        "  seconds_in_year : int = DAYS_PER_YEAR * HOURS_PER_DAY * MINUTES_PER_HOUR * SECONDS_PER_MINUTE\n",
        "\n",
        "  print(f\"There are {seconds_in_year} seconds in a year!\")\n",
        "\n",
        "\n",
        "if __name__ == \"__main__\":\n",
        "  main()\n"
      ],
      "metadata": {
        "colab": {
          "base_uri": "https://localhost:8080/"
        },
        "id": "gFtRxX1JsbgJ",
        "outputId": "889d25f9-6d66-416a-8b03-fe218707cec7"
      },
      "execution_count": 8,
      "outputs": [
        {
          "output_type": "stream",
          "name": "stdout",
          "text": [
            "There are 31536000 seconds in a year!\n"
          ]
        }
      ]
    },
    {
      "cell_type": "markdown",
      "source": [
        "#**07_tiny_mad_lib**\n",
        "\n"
      ],
      "metadata": {
        "id": "KDWTcs4cv0It"
      }
    },
    {
      "cell_type": "code",
      "source": [
        "SENTENCE_START: str = \"Yesterday, I discovered a \"  # adjective noun that can verb\n",
        "\n",
        "def main():\n",
        "    # Prompt the user for words to complete the sentence\n",
        "    adjective: str = input(\"Please type an adjective and press enter: \")\n",
        "    noun: str = input(\"Please type a noun and press enter: \")\n",
        "    verb: str = input(\"Please type a verb and press enter: \")\n",
        "\n",
        "    # Print the final Mad Libs-style sentence\n",
        "    print(f\"{SENTENCE_START}{adjective} {noun} that can {verb} all by itself!\")\n",
        "\n",
        "if __name__ == '__main__':\n",
        "    main()\n"
      ],
      "metadata": {
        "colab": {
          "base_uri": "https://localhost:8080/"
        },
        "id": "oMvWyexLte4z",
        "outputId": "e734ff4d-a688-4c4c-f009-a79fa78b57d5"
      },
      "execution_count": 16,
      "outputs": [
        {
          "output_type": "stream",
          "name": "stdout",
          "text": [
            "Please type an adjective and press enter: fool\n",
            "Please type a noun and press enter: guy\n",
            "Please type a verb and press enter: running\n",
            "Yesterday, I discovered a fool guy that can running all by itself!\n"
          ]
        }
      ]
    }
  ]
}