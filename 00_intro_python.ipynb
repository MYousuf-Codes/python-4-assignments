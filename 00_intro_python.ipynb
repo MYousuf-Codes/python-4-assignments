{
  "cells": [
    {
      "cell_type": "markdown",
      "metadata": {
        "id": "view-in-github",
        "colab_type": "text"
      },
      "source": [
        "<a href=\"https://colab.research.google.com/github/MYousuf-Codes/python-4-assignments/blob/main/00_intro_python.ipynb\" target=\"_parent\"><img src=\"https://colab.research.google.com/assets/colab-badge.svg\" alt=\"Open In Colab\"/></a>"
      ]
    },
    {
      "cell_type": "markdown",
      "metadata": {
        "id": "b6VxdN5ky6yn"
      },
      "source": [
        "#**01_add_two_numbers**\n",
        "\n",
        "**Write a Python program that takes two integer inputs from the user and calculates their sum. The program should perform the following tasks:**\n",
        "\n",
        "✅ Prompt the user to enter the first number.\n",
        "\n",
        "✅ Read the input and convert it to an integer.\n",
        "\n",
        "✅ Prompt the user to enter the second number.\n",
        "\n",
        "✅ Read the input and convert it to an integer.\n",
        "\n",
        "✅ Calculate the sum of the two numbers.\n",
        "\n",
        "✅ Print the total sum with an appropriate message.\n",
        "\n",
        "**The provided solution demonstrates a working implementation of this problem, where the main() function guides the user through the process of entering two numbers and displays their sum.**"
      ]
    },
    {
      "cell_type": "code",
      "execution_count": null,
      "metadata": {
        "colab": {
          "base_uri": "https://localhost:8080/"
        },
        "id": "8G9MxGIXysQk",
        "outputId": "f0dc9c48-7805-4038-a253-0d4f898d5764"
      },
      "outputs": [
        {
          "name": "stdout",
          "output_type": "stream",
          "text": [
            "Add Two Numbers :)\n",
            "Enter first number: 50\n",
            "Enter second number: 70\n",
            "The sum of 50 and 70 is = 120\n"
          ]
        }
      ],
      "source": [
        "def main():\n",
        "    print(\"Add Two Numbers :)\")\n",
        "\n",
        "    num1: str = input(\"Enter first number: \")\n",
        "    num1: int = int(num1)\n",
        "\n",
        "    num2: str = input(\"Enter second number: \")\n",
        "    num2: int = int(num2)\n",
        "\n",
        "    sum_result: int = num1 + num2\n",
        "\n",
        "    print(f\"The sum of {num1} and {num2} is = {sum_result}\")\n",
        "\n",
        "if __name__ == '__main__':\n",
        "    main()\n"
      ]
    },
    {
      "cell_type": "markdown",
      "metadata": {
        "id": "7XLuItgV48l2"
      },
      "source": [
        "#**02_agreement_bot**\n",
        "\n",
        "Write a program which asks the user what their favorite animal is, and then always responds with \"My favorite animal is also ___!\" (the blank should be filled in with the user-inputted animal, of course)."
      ]
    },
    {
      "cell_type": "code",
      "execution_count": 1,
      "metadata": {
        "colab": {
          "base_uri": "https://localhost:8080/"
        },
        "id": "KtgZkf1T52rC",
        "outputId": "2f165d44-49a5-422e-8dcc-5fb7fa7b99c7"
      },
      "outputs": [
        {
          "output_type": "stream",
          "name": "stdout",
          "text": [
            "Agreement Bot :)\n",
            "What's your Favourite Animal? hen\n",
            "My Favourite Animal is hen!\n"
          ]
        }
      ],
      "source": [
        "def main():\n",
        "    print(\"Agreement Bot :)\")\n",
        "\n",
        "    favourite_animal : str = input(\"What's your Favourite Animal? \")\n",
        "    print(f\"My Favourite Animal is {favourite_animal}!\")\n",
        "\n",
        "\n",
        "if __name__ == '__main__':\n",
        "    main()"
      ]
    },
    {
      "cell_type": "markdown",
      "source": [
        "# **03_fahrenheit_to_celsius**\n",
        "\n",
        "Write a program which prompts the user for a temperature in Fahrenheit (this can be a number with decimal places!) and outputs the temperature converted to Celsius."
      ],
      "metadata": {
        "id": "8I1EcuAcGJxN"
      }
    },
    {
      "cell_type": "code",
      "source": [
        "def main():\n",
        "  print(f\"Convert the Temperature from Fahrenheit to Celsius!:)\")\n",
        "\n",
        "  fahrenheit_input = input (\"Enter temperture in fahrenheit: \")\n",
        "  degrees_fahrenheit = float(fahrenheit_input)\n",
        "  degrees_celsius = (degrees_fahrenheit - 32)*5.0/9.0\n",
        "\n",
        "  print (f\"Fahrenheit Temperature {fahrenheit_input} = {degrees_celsius}\")\n",
        "\n",
        "if __name__ == '__main__':\n",
        "  main()"
      ],
      "metadata": {
        "colab": {
          "base_uri": "https://localhost:8080/"
        },
        "id": "pbdSi-TXGfEB",
        "outputId": "d7809c5f-d94b-4786-a1a3-598524beaf38"
      },
      "execution_count": 5,
      "outputs": [
        {
          "output_type": "stream",
          "name": "stdout",
          "text": [
            "Convert the Temperature from Fahrenheit to Celsius!:)\n",
            "Enter temperture in fahrenheit: 50\n",
            "Fahrenheit Temperature 50 = 10.0\n"
          ]
        }
      ]
    },
    {
      "cell_type": "markdown",
      "source": [
        "# **04_how_old_are_they**\n",
        "\n",
        "Write a program to solve this age-related riddle!\n",
        "\n",
        "**Anton, Beth, Chen, Drew, and Ethan are all friends. Their ages are as follows:**\n",
        "\n",
        "Anton is 21 years old.\n",
        "\n",
        "Beth is 6 years older than Anton.\n",
        "\n",
        "Chen is 20 years older than Beth.\n",
        "\n",
        "Drew is as old as Chen's age plus Anton's age.\n",
        "\n",
        "Ethan is the same age as Chen."
      ],
      "metadata": {
        "id": "foJlZFUXIla5"
      }
    },
    {
      "cell_type": "code",
      "source": [
        "def main():\n",
        "    anton : int = 21\n",
        "    beth : int = 6 + anton\n",
        "    chen : int = 20 + beth\n",
        "    drew : int = chen + anton\n",
        "    ethan : int = chen\n",
        "\n",
        "   # Print all of the ages!\n",
        "    print(\"Anton is \" + str(anton))\n",
        "    print(\"Beth is \" + str(beth))\n",
        "    print(\"Chen is \" + str(chen))\n",
        "    print(\"Drew is \" + str(drew))\n",
        "    print(\"Ethan is \" + str(ethan))\n",
        "\n",
        "\n",
        "if __name__ == '__main__':\n",
        "    main()"
      ],
      "metadata": {
        "colab": {
          "base_uri": "https://localhost:8080/"
        },
        "id": "Q4CijFxrJCqS",
        "outputId": "f2d21d2f-3253-4e5a-fb1f-79e168b18772"
      },
      "execution_count": 9,
      "outputs": [
        {
          "output_type": "stream",
          "name": "stdout",
          "text": [
            "Anton is 21\n",
            "Beth is 27\n",
            "Chen is 47\n",
            "Drew is 68\n",
            "Ethan is 47\n"
          ]
        }
      ]
    },
    {
      "cell_type": "markdown",
      "source": [
        "# **05_triangle_perimeter**\n",
        "\n",
        "Prompt the user to enter the lengths of each side of a triangle and then calculate and print the perimeter of the triangle (the sum of all of the side lengths)."
      ],
      "metadata": {
        "id": "1k3bGybfKc6R"
      }
    },
    {
      "cell_type": "code",
      "source": [
        "def main():\n",
        "    print(\"Triangle Perimeter :)\")\n",
        "\n",
        "    # Get the 3 side lengths of the triangle\n",
        "    side1: float = float(input(\"What is the length of side 1? \"))\n",
        "    side2: float = float(input(\"What is the length of side 2? \"))\n",
        "    side3: float = float(input(\"What is the length of side 3? \"))\n",
        "\n",
        "    # Print out the perimeter (sum of the sides) of the triangle, make sure to cast it to a str when concatenating!\n",
        "    print(\"The perimeter of the triangle is \" + str(side1 + side2 + side3))\n",
        "\n",
        "\n",
        "if __name__ == '__main__':\n",
        "    main()"
      ],
      "metadata": {
        "colab": {
          "base_uri": "https://localhost:8080/"
        },
        "id": "bljzSIHPK1_3",
        "outputId": "fb9dfe0e-6eb2-48e5-e297-1ca091531c4c"
      },
      "execution_count": 10,
      "outputs": [
        {
          "output_type": "stream",
          "name": "stdout",
          "text": [
            "What is the length of side 1? 5\n",
            "What is the length of side 2? 5\n",
            "What is the length of side 3? 5\n",
            "The perimeter of the triangle is 15.0\n"
          ]
        }
      ]
    },
    {
      "cell_type": "markdown",
      "source": [
        "# **06_square_number**\n",
        "\n",
        "Ask the user for a number and print its square (the product of the number times itself)."
      ],
      "metadata": {
        "id": "gB_hW8t5LRYU"
      }
    },
    {
      "cell_type": "code",
      "source": [
        "def main():\n",
        "  print(\"The Square of the User Input :)\")\n",
        "\n",
        "  number_input : float = float(input(\"Enter the number to see its square: \"))\n",
        "  print(str (number_input)+ \" squared is: \" + (str (number_input * number_input)))\n",
        "\n",
        "if __name__ == '__main__':\n",
        "  main()"
      ],
      "metadata": {
        "colab": {
          "base_uri": "https://localhost:8080/"
        },
        "id": "1CuA0QRyLiW1",
        "outputId": "67db30bc-3f89-44c2-8953-511f8e7e77c9"
      },
      "execution_count": 14,
      "outputs": [
        {
          "output_type": "stream",
          "name": "stdout",
          "text": [
            "The Square of the User Input :)\n",
            "Enter the number to see its square: 6\n",
            "6.0 squared is: 36.0\n"
          ]
        }
      ]
    }
  ],
  "metadata": {
    "colab": {
      "provenance": [],
      "authorship_tag": "ABX9TyOYuhg8WDG0+upYsipRrikI",
      "include_colab_link": true
    },
    "kernelspec": {
      "display_name": "Python 3",
      "name": "python3"
    },
    "language_info": {
      "name": "python"
    }
  },
  "nbformat": 4,
  "nbformat_minor": 0
}